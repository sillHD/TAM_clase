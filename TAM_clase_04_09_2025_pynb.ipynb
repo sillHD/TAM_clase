{
  "nbformat": 4,
  "nbformat_minor": 0,
  "metadata": {
    "colab": {
      "provenance": []
    },
    "kernelspec": {
      "name": "python3",
      "display_name": "Python 3"
    },
    "language_info": {
      "name": "python"
    }
  },
  "cells": [
    {
      "cell_type": "markdown",
      "metadata": {
        "id": "0bf53f70"
      },
      "source": [
        "# Tarea\n",
        "Generar código Python para demostrar la proyección de un vector 2D sobre otro vector 2D utilizando tanto la solución analítica como una solución iterativa (descenso de gradiente). Incluir explicaciones claras, comentarios y visualizaciones."
      ]
    },
    {
      "cell_type": "markdown",
      "metadata": {
        "id": "5db278f2"
      },
      "source": [
        "## Definir los vectores\n",
        "\n",
        "### Subtask:\n",
        "Definir los dos vectores en 2 dimensiones que se utilizarán para la proyección.\n"
      ]
    },
    {
      "cell_type": "markdown",
      "metadata": {
        "id": "f62f1fe9"
      },
      "source": [
        "**Reasoning**:\n",
        "Define the two 2D vectors using NumPy.\n",
        "\n"
      ]
    },
    {
      "cell_type": "code",
      "metadata": {
        "colab": {
          "base_uri": "https://localhost:8080/"
        },
        "id": "009adf09",
        "outputId": "cbc3c279-5aa7-41ca-f91c-99a4bf065750"
      },
      "source": [
        "import numpy as np\n",
        "\n",
        "# Define the two 2-dimensional vectors\n",
        "vector_a = np.array([3, 2])  # Vector to be projected\n",
        "vector_b = np.array([5, 0])  # Vector onto which vector_a is projected\n",
        "\n",
        "print(\"Vector a:\", vector_a)\n",
        "print(\"Vector b:\", vector_b)"
      ],
      "execution_count": 1,
      "outputs": [
        {
          "output_type": "stream",
          "name": "stdout",
          "text": [
            "Vector a: [3 2]\n",
            "Vector b: [5 0]\n"
          ]
        }
      ]
    },
    {
      "cell_type": "markdown",
      "metadata": {
        "id": "263947d5"
      },
      "source": [
        "## Solución analítica\n",
        "\n",
        "### Subtask:\n",
        "Implementar la función para calcular la proyección del vector utilizando la fórmula analítica.\n"
      ]
    },
    {
      "cell_type": "code",
      "metadata": {
        "colab": {
          "base_uri": "https://localhost:8080/"
        },
        "id": "cefc11b1",
        "outputId": "f4576f00-25ff-4265-d0cb-384b332d27ad"
      },
      "source": [
        "def project_vector_analytical(a, b):\n",
        "  \"\"\"\n",
        "  Calculates the projection of vector a onto vector b using the analytical formula.\n",
        "\n",
        "  Args:\n",
        "    a: A 2D NumPy array representing the vector to be projected.\n",
        "    b: A 2D NumPy array representing the vector onto which 'a' is projected.\n",
        "\n",
        "  Returns:\n",
        "    A 2D NumPy array representing the projected vector.\n",
        "  \"\"\"\n",
        "  # Calculate the dot product of a and b\n",
        "  dot_product = np.dot(a, b)\n",
        "\n",
        "  # Calculate the squared magnitude of b\n",
        "  b_squared_magnitude = np.dot(b, b)\n",
        "\n",
        "  # Calculate the scalar projection\n",
        "  scalar_projection = dot_product / b_squared_magnitude\n",
        "\n",
        "  # Calculate the projected vector by multiplying the scalar projection by the unit vector of b\n",
        "  projected_vector = scalar_projection * (b / np.linalg.norm(b))\n",
        "\n",
        "  return projected_vector\n",
        "\n",
        "# Call the function with vector_a and vector_b\n",
        "projection_analytical = project_vector_analytical(vector_a, vector_b)\n",
        "\n",
        "# Print the resulting analytical projection vector\n",
        "print(\"Analytical projection:\", projection_analytical)"
      ],
      "execution_count": 2,
      "outputs": [
        {
          "output_type": "stream",
          "name": "stdout",
          "text": [
            "Analytical projection: [0.6 0. ]\n"
          ]
        }
      ]
    },
    {
      "cell_type": "markdown",
      "metadata": {
        "id": "9a44040c"
      },
      "source": [
        "## Solución iterativa (gradiente descendente)\n",
        "\n",
        "### Subtask:\n",
        "Implement the cost function (squared error) and the gradient descent algorithm to find the optimal scalar that minimizes the cost function.\n"
      ]
    },
    {
      "cell_type": "code",
      "metadata": {
        "colab": {
          "base_uri": "https://localhost:8080/"
        },
        "id": "d345f952",
        "outputId": "57a26792-9249-436b-e878-bd13ca68a46f"
      },
      "source": [
        "def cost_function(scalar, a, b):\n",
        "  \"\"\"Calculates the squared error between vector a and the scaled vector b.\"\"\"\n",
        "  return np.sum((a - scalar * b)**2)\n",
        "\n",
        "def gradient_descent(a, b, learning_rate, num_iterations):\n",
        "  \"\"\"Implements the gradient descent algorithm to find the optimal scalar.\"\"\"\n",
        "  scalar = 0  # Initialize the scalar\n",
        "  for _ in range(num_iterations):\n",
        "    gradient = -2 * np.dot(a - scalar * b, b)  # Calculate the gradient\n",
        "    scalar = scalar - learning_rate * gradient  # Update the scalar\n",
        "  return scalar\n",
        "\n",
        "# Call the gradient_descent function\n",
        "optimal_scalar = gradient_descent(vector_a, vector_b, learning_rate=0.01, num_iterations=1000)\n",
        "\n",
        "# Calculate the projected vector using the optimized scalar\n",
        "projection_gradient_descent = optimal_scalar * vector_b\n",
        "\n",
        "# Print the results\n",
        "print(\"Optimized scalar (Gradient Descent):\", optimal_scalar)\n",
        "print(\"Projected vector (Gradient Descent):\", projection_gradient_descent)"
      ],
      "execution_count": 3,
      "outputs": [
        {
          "output_type": "stream",
          "name": "stdout",
          "text": [
            "Optimized scalar (Gradient Descent): 0.6\n",
            "Projected vector (Gradient Descent): [3. 0.]\n"
          ]
        }
      ]
    },
    {
      "cell_type": "markdown",
      "metadata": {
        "id": "0c855c42"
      },
      "source": [
        "## Visualización\n",
        "\n",
        "### Subtask:\n",
        "Graficar los vectores originales, el vector proyectado (calculado por ambos métodos) y la recta sobre la que se proyecta el vector.\n"
      ]
    },
    {
      "cell_type": "markdown",
      "metadata": {
        "id": "b6bafe61"
      },
      "source": [
        "**Reasoning**:\n",
        "Generate Python code to plot the original vectors, the projected vectors from both methods, and the line representing the span of vector_b, following the instructions provided.\n",
        "\n"
      ]
    },
    {
      "cell_type": "code",
      "metadata": {
        "colab": {
          "base_uri": "https://localhost:8080/",
          "height": 718
        },
        "id": "e4853f0a",
        "outputId": "fc7326e2-ed42-4bc5-cd9a-d1974ad02076"
      },
      "source": [
        "import matplotlib.pyplot as plt\n",
        "\n",
        "# Create a figure and axes object\n",
        "fig, ax = plt.subplots(figsize=(8, 8))\n",
        "\n",
        "# Define the origin\n",
        "origin = np.array([0, 0])\n",
        "\n",
        "# Plot the original vectors\n",
        "ax.quiver(*origin, *vector_a, color='r', scale=1, scale_units='xy', angles='xy', label='Vector a')\n",
        "ax.quiver(*origin, *vector_b, color='b', scale=1, scale_units='xy', angles='xy', label='Vector b')\n",
        "\n",
        "# Plot the projected vectors\n",
        "ax.quiver(*origin, *projection_analytical, color='g', scale=1, scale_units='xy', angles='xy', label='Projection (Analytical)')\n",
        "ax.quiver(*origin, *projection_gradient_descent, color='m', scale=1, scale_units='xy', angles='xy', label='Projection (Gradient Descent)')\n",
        "\n",
        "# Draw the line representing the span of vector_b\n",
        "# Extend the line in both directions. A scalar of 2 should be sufficient for visualization.\n",
        "line_vector_pos = 2 * vector_b\n",
        "line_vector_neg = -2 * vector_b\n",
        "ax.plot([line_vector_neg[0], line_vector_pos[0]], [line_vector_neg[1], line_vector_pos[1]], 'k--', label='Span of Vector b')\n",
        "\n",
        "\n",
        "# Set limits for the axes with padding\n",
        "all_coords = np.concatenate([vector_a, vector_b, projection_analytical, projection_gradient_descent, line_vector_pos, line_vector_neg])\n",
        "max_limit = np.max(np.abs(all_coords)) + 1\n",
        "ax.set_xlim([-max_limit, max_limit])\n",
        "ax.set_ylim([-max_limit, max_limit])\n",
        "\n",
        "# Add labels, title, legend, grid, and equal aspect ratio\n",
        "ax.set_xlabel('X-axis')\n",
        "ax.set_ylabel('Y-axis')\n",
        "ax.set_title('Vector Projection Demonstration')\n",
        "ax.legend()\n",
        "ax.grid(True)\n",
        "ax.set_aspect('equal', adjustable='box')\n",
        "\n",
        "# Display the plot\n",
        "plt.show()"
      ],
      "execution_count": 9,
      "outputs": [
        {
          "output_type": "display_data",
          "data": {
            "text/plain": [
              "<Figure size 800x800 with 1 Axes>"
            ],
            "image/png": "[encoded data removed]"
          },
          "metadata": {}
        }
      ]
    },
    {
      "cell_type": "markdown",
      "metadata": {
        "id": "6bff822c"
      },
      "source": [
        "## Descripción y comentarios\n",
        "\n",
        "### Subtask:\n",
        "Add comments to the code and provide a step-by-step description of the solution in text cells.\n"
      ]
    },
    {
      "cell_type": "markdown",
      "metadata": {
        "id": "4e3dc432"
      },
      "source": [
        "**Reasoning**:\n",
        "Add comments to the existing Python code blocks to explain each step and create markdown cells with step-by-step explanations of the solution.\n",
        "\n"
      ]
    },
    {
      "cell_type": "code",
      "metadata": {
        "id": "907400af",
        "colab": {
          "base_uri": "https://localhost:8080/"
        },
        "outputId": "0179381d-497d-456f-ffea-54f4332a2d90"
      },
      "source": [
        "# Define the two 2-dimensional vectors\n",
        "vector_a = np.array([3, 2])  # Vector to be projected\n",
        "vector_b = np.array([5, 0])  # Vector onto which vector_a is projected\n",
        "\n",
        "print(\"Vector a:\", vector_a)\n",
        "print(\"Vector b:\", vector_b)"
      ],
      "execution_count": 11,
      "outputs": [
        {
          "output_type": "stream",
          "name": "stdout",
          "text": [
            "Vector a: [3 2]\n",
            "Vector b: [5 0]\n"
          ]
        }
      ]
    },
    {
      "cell_type": "markdown",
      "metadata": {
        "id": "5d809a54"
      },
      "source": [
        "**Reasoning**:\n",
        "Continue by adding comments to the next code block for the analytical solution and then add the markdown explanation for this part.\n",
        "\n"
      ]
    },
    {
      "cell_type": "code",
      "metadata": {
        "id": "1a0d8db0",
        "colab": {
          "base_uri": "https://localhost:8080/"
        },
        "outputId": "3182d5c6-31bc-4284-f35c-23ccc580c32d"
      },
      "source": [
        "def project_vector_analytical(a, b):\n",
        "  \"\"\"\n",
        "  Calculates the projection of vector a onto vector b using the analytical formula.\n",
        "\n",
        "  Args:\n",
        "    a: A 2D NumPy array representing the vector to be projected.\n",
        "    b: A 2D NumPy array representing the vector onto which 'a' is projected.\n",
        "\n",
        "  Returns:\n",
        "    A 2D NumPy array representing the projected vector.\n",
        "  \"\"\"\n",
        "  # Calculate the dot product of a and b\n",
        "  dot_product = np.dot(a, b)\n",
        "\n",
        "  # Calculate the squared magnitude of b (|b|^2)\n",
        "  b_squared_magnitude = np.dot(b, b)\n",
        "\n",
        "  # Calculate the scalar projection (the length of the projected vector along b)\n",
        "  scalar_projection = dot_product / b_squared_magnitude\n",
        "\n",
        "  # Calculate the projected vector by multiplying the scalar projection by the unit vector of b (b / |b|)\n",
        "  # Note: scalar_projection is (a.b) / |b|^2, so scalar_projection * b is ((a.b) / |b|^2) * b. This is the correct formula.\n",
        "  projected_vector = scalar_projection * b\n",
        "\n",
        "  return projected_vector\n",
        "\n",
        "# Call the function with vector_a and vector_b to get the analytical projection\n",
        "projection_analytical = project_vector_analytical(vector_a, vector_b)\n",
        "\n",
        "# Print the resulting analytical projection vector\n",
        "print(\"Analytical projection:\", projection_analytical)"
      ],
      "execution_count": 12,
      "outputs": [
        {
          "output_type": "stream",
          "name": "stdout",
          "text": [
            "Analytical projection: [3. 0.]\n"
          ]
        }
      ]
    },
    {
      "cell_type": "markdown",
      "metadata": {
        "id": "2b760ba2"
      },
      "source": [
        "**Reasoning**:\n",
        "Add a markdown cell to explain the analytical solution part of the code.\n",
        "\n"
      ]
    },
    {
      "cell_type": "code",
      "metadata": {
        "id": "ba253f17",
        "colab": {
          "base_uri": "https://localhost:8080/",
          "height": 127
        },
        "outputId": "017d5ec9-1fcc-4a2c-bfb8-5b29aaca31dd"
      },
      "source": [
        "## Step-by-Step Explanation\n",
        "\n",
        "# Define the two 2-dimensional vectors\n",
        "vector_a = np.array([3, 2])  # Vector to be projected\n",
        "vector_b = np.array([5, 0])  # Vector onto which vector_a is projected\n",
        "\n",
        "print(\"Vector a:\", vector_a)\n",
        "print(\"Vector b:\", vector_b)\n",
        "\n",
        "def project_vector_analytical(a, b):\n",
        "  \"\"\"\n",
        "  Calculates the projection of vector a onto vector b using the analytical formula.\n",
        "\n",
        "  Args:\n",
        "    a: A 2D NumPy array representing the vector to be projected.\n",
        "    b: A 2D NumPy array representing the vector onto which 'a' is projected.\n",
        "\n",
        "  Returns:\n",
        "    A 2D NumPy array representing the projected vector.\n",
        "  \"\"\"\n",
        "  # Calculate the dot product of a and b\n",
        "  dot_product = np.dot(a, b)\n",
        "\n",
        "  # Calculate the squared magnitude of b (|b|^2)\n",
        "  b_squared_magnitude = np.dot(b, b)\n",
        "\n",
        "  # Calculate the scalar projection (the length of the projected vector along b)\n",
        "  scalar_projection = dot_product / b_squared_magnitude\n",
        "\n",
        "  # Calculate the projected vector by multiplying the scalar projection by the unit vector of b (b / |b|)\n",
        "  # Note: scalar_projection is (a.b) / |b|^2, so scalar_projection * b is ((a.b) / |b|^2) * b. This is the correct formula.\n",
        "  projected_vector = scalar_projection * b\n",
        "\n",
        "  return projected_vector\n",
        "\n",
        "# Call the function with vector_a and vector_b to get the analytical projection\n",
        "projection_analytical = project_vector_analytical(vector_a, vector_b)\n",
        "\n",
        "# Print the resulting analytical projection vector\n",
        "print(\"Analytical projection:\", projection_analytical)\n"
      ],
      "execution_count": 15,
      "outputs": [
        {
          "output_type": "error",
          "ename": "SyntaxError",
          "evalue": "invalid decimal literal (ipython-input-2295763687.py, line 3)",
          "traceback": [
            "\u001b[0;36m  File \u001b[0;32m\"/tmp/ipython-input-2295763687.py\"\u001b[0;36m, line \u001b[0;32m3\u001b[0m\n\u001b[0;31m    This notebook demonstrates the projection of a 2D vector onto another 2D vector using two methods: the analytical solution and an iterative solution (gradient descent).\u001b[0m\n\u001b[0m                                                   ^\u001b[0m\n\u001b[0;31mSyntaxError\u001b[0m\u001b[0;31m:\u001b[0m invalid decimal literal\n"
          ]
        }
      ]
    },
    {
      "cell_type": "markdown",
      "metadata": {
        "id": "a8f7fea5"
      },
      "source": [
        "**Reasoning**:\n",
        "The previous command failed because the markdown content was placed in a `code_block`. Now, the markdown content will be placed in a markdown cell. Then, the code for the iterative solution will be added with comments.\n",
        "\n"
      ]
    },
    {
      "cell_type": "code",
      "metadata": {
        "id": "59n8TG3NbzMY",
        "colab": {
          "base_uri": "https://localhost:8080/"
        },
        "outputId": "2d640c44-6cb3-41d8-a4fc-3140bcbb77de"
      },
      "source": [
        "# Implement the cost function (squared error)\n",
        "def cost_function(scalar, a, b):\n",
        "  \"\"\"\n",
        "  Calculates the squared error between vector a and the scaled vector b.\n",
        "  This is the function we want to minimize. The scalar represents the potential\n",
        "  scaling factor for vector b to approximate the projection of a onto b.\n",
        "  \"\"\"\n",
        "  return np.sum((a - scalar * b)**2)\n",
        "\n",
        "# Implement the gradient descent algorithm\n",
        "def gradient_descent(a, b, learning_rate, num_iterations):\n",
        "  \"\"\"\n",
        "  Implements the gradient descent algorithm to find the optimal scalar\n",
        "  that minimizes the cost function.\n",
        "\n",
        "  Args:\n",
        "    a: The vector to be projected.\n",
        "    b: The vector onto which 'a' is projected.\n",
        "    learning_rate: The step size for each iteration.\n",
        "    num_iterations: The number of iterations to perform.\n",
        "\n",
        "  Returns:\n",
        "    The optimal scalar found by gradient descent.\n",
        "  \"\"\"\n",
        "  scalar = 0  # Initialize the scalar to 0\n",
        "  # Iterate a specified number of times\n",
        "  for _ in range(num_iterations):\n",
        "    # Calculate the gradient of the cost function with respect to the scalar\n",
        "    # The derivative of (a - scalar * b)^2 with respect to scalar is -2 * (a - scalar * b) * b\n",
        "    gradient = -2 * np.dot(a - scalar * b, b)\n",
        "    # Update the scalar by moving in the opposite direction of the gradient\n",
        "    # The learning rate controls the size of the step\n",
        "    scalar = scalar - learning_rate * gradient\n",
        "  return scalar\n",
        "\n",
        "# Set the learning rate and number of iterations for gradient descent\n",
        "learning_rate = 0.001\n",
        "num_iterations = 10000\n",
        "\n",
        "# Call the gradient_descent function with vector_a and vector_b\n",
        "optimal_scalar = gradient_descent(vector_a, vector_b, learning_rate=learning_rate, num_iterations=num_iterations)\n",
        "\n",
        "# Calculate the projected vector using the optimized scalar from gradient descent\n",
        "projection_gradient_descent = optimal_scalar * vector_b\n",
        "\n",
        "# Print the results from the gradient descent method\n",
        "print(\"Optimized scalar (Gradient Descent):\", optimal_scalar)\n",
        "print(\"Projected vector (Gradient Descent):\", projection_gradient_descent)"
      ],
      "execution_count": 25,
      "outputs": [
        {
          "output_type": "stream",
          "name": "stdout",
          "text": [
            "Optimized scalar (Gradient Descent): 0.599999999999999\n",
            "Projected vector (Gradient Descent): [3. 0.]\n"
          ]
        }
      ]
    },
    {
      "cell_type": "code",
      "metadata": {
        "id": "d94729d8",
        "colab": {
          "base_uri": "https://localhost:8080/"
        },
        "outputId": "9495425b-8399-4110-8b01-73da7669bf67"
      },
      "source": [
        "### 3. Iterative Solution (Gradient Descent)\n",
        "\n",
        "# Implement the cost function (squared error)\n",
        "def cost_function(scalar, a, b):\n",
        "  \"\"\"\n",
        "  Calculates the squared error between vector a and the scaled vector b.\n",
        "  This is the function we want to minimize. The scalar represents the potential\n",
        "  scaling factor for vector b to approximate the projection of a onto b.\n",
        "  \"\"\"\n",
        "  return np.sum((a - scalar * b)**2)\n",
        "\n",
        "# Implement the gradient descent algorithm\n",
        "def gradient_descent(a, b, learning_rate, num_iterations):\n",
        "  \"\"\"\n",
        "  Implements the gradient descent algorithm to find the optimal scalar\n",
        "  that minimizes the cost function.\n",
        "\n",
        "  Args:\n",
        "    a: The vector to be projected.\n",
        "    b: The vector onto which 'a' is projected.\n",
        "    learning_rate: The step size for each iteration.\n",
        "    num_iterations: The number of iterations to perform.\n",
        "\n",
        "  Returns:\n",
        "    The optimal scalar found by gradient descent.\n",
        "  \"\"\"\n",
        "  scalar = 0  # Initialize the scalar to 0\n",
        "  # Iterate a specified number of times\n",
        "  for _ in range(num_iterations):\n",
        "    # Calculate the gradient of the cost function with respect to the scalar\n",
        "    # The derivative of (a - scalar * b)^2 with respect to scalar is -2 * (a - scalar * b) * b\n",
        "    gradient = -2 * np.dot(a - scalar * b, b)\n",
        "    # Update the scalar by moving in the opposite direction of the gradient\n",
        "    # The learning rate controls the size of the step\n",
        "    scalar = scalar - learning_rate * gradient\n",
        "  return scalar\n",
        "\n",
        "# Set the learning rate and number of iterations for gradient descent\n",
        "learning_rate = 0.001\n",
        "num_iterations = 10000\n",
        "\n",
        "# Call the gradient_descent function with vector_a and vector_b\n",
        "optimal_scalar = gradient_descent(vector_a, vector_b, learning_rate=learning_rate, num_iterations=num_iterations)\n",
        "\n",
        "# Calculate the projected vector using the optimized scalar from gradient descent\n",
        "projection_gradient_descent = optimal_scalar * vector_b\n",
        "\n",
        "# Print the results from the gradient descent method\n",
        "print(\"Optimized scalar (Gradient Descent):\", optimal_scalar)\n",
        "print(\"Projected vector (Gradient Descent):\", projection_gradient_descent)\n",
        "\n"
      ],
      "execution_count": 24,
      "outputs": [
        {
          "output_type": "stream",
          "name": "stdout",
          "text": [
            "Optimized scalar (Gradient Descent): 0.599999999999999\n",
            "Projected vector (Gradient Descent): [3. 0.]\n"
          ]
        }
      ]
    },
    {
      "cell_type": "code",
      "metadata": {
        "id": "e2emljMWb4qg"
      },
      "source": [
        "import matplotlib.pyplot as plt\n",
        "\n",
        "# Create a figure and axes object for plotting\n",
        "fig, ax = plt.subplots(figsize=(8, 8))\n",
        "\n",
        "# Define the origin for plotting vectors\n",
        "origin = np.array([0, 0])\n",
        "\n",
        "# Plot the original vector a (to be projected)\n",
        "ax.quiver(*origin, *vector_a, color='r', scale=1, scale_units='xy', angles='xy', label='Vector a')\n",
        "# Plot the original vector b (onto which vector a is projected)\n",
        "ax.quiver(*origin, *vector_b, color='b', scale=1, scale_units='xy', angles='xy', label='Vector b')\n",
        "\n",
        "# Plot the projected vector calculated using the analytical method\n",
        "ax.quiver(*origin, *projection_analytical, color='g', scale=1, scale_units='xy', angles='xy', label='Projection (Analytical)')\n",
        "# Plot the projected vector calculated using the gradient descent method\n",
        "ax.quiver(*origin, *projection_gradient_descent, color='m', scale=1, scale_units='xy', angles='xy', label='Projection (Gradient Descent)')\n",
        "\n",
        "# Draw the line representing the span of vector_b. This line shows all possible\n",
        "# scalar multiples of vector_b, and the projection of vector_a onto this line\n",
        "# is the point on the line closest to the end of vector_a.\n",
        "# We extend the line in both directions for better visualization. A scalar of 2\n",
        "# and -2 should be sufficient based on the vector magnitudes.\n",
        "line_vector_pos = 2 * vector_b\n",
        "line_vector_neg = -2 * vector_b\n",
        "ax.plot([line_vector_neg[0], line_vector_pos[0]], [line_vector_neg[1], line_vector_pos[1]], 'k--', label='Span of Vector b')\n",
        "\n",
        "\n",
        "# Set limits for the axes with padding to ensure all vectors and the line are visible\n",
        "# We find the maximum absolute coordinate value among all plotted points and add some padding.\n",
        "all_coords = np.concatenate([vector_a, vector_b, projection_analytical, projection_gradient_descent, line_vector_pos, line_vector_neg])\n",
        "max_limit = np.max(np.abs(all_coords)) + 1\n",
        "ax.set_xlim([-max_limit, max_limit])\n",
        "ax.set_ylim([-max_limit, max_limit])\n",
        "\n",
        "# Add labels, title, legend, grid, and set equal aspect ratio for a clear plot\n",
        "ax.set_xlabel('X-axis')\n",
        "ax.set_ylabel('Y-axis')\n",
        "ax.set_title('Vector Projection Demonstration')\n",
        "ax.legend()\n",
        "ax.grid(True)\n",
        "ax.set_aspect('equal', adjustable='box')\n",
        "\n",
        "# Display the plot\n",
        "plt.show()"
      ],
      "execution_count": null,
      "outputs": []
    },
    {
      "cell_type": "markdown",
      "metadata": {
        "id": "13f326d0"
      },
      "source": [
        "**Reasoning**:\n",
        "Add a markdown cell to explain the visualization part of the solution and then finish the task.\n",
        "\n"
      ]
    },
    {
      "cell_type": "code",
      "metadata": {
        "id": "3765c31e",
        "colab": {
          "base_uri": "https://localhost:8080/",
          "height": 718
        },
        "outputId": "918c7f7d-5477-44d5-aa01-60965114fdb1"
      },
      "source": [
        "### 4. Visualization\n",
        "\n",
        "import matplotlib.pyplot as plt\n",
        "\n",
        "# Create a figure and axes object for plotting\n",
        "fig, ax = plt.subplots(figsize=(8, 8))\n",
        "\n",
        "# Define the origin for plotting vectors\n",
        "origin = np.array([0, 0])\n",
        "\n",
        "# Plot the original vector a (to be projected)\n",
        "ax.quiver(*origin, *vector_a, color='r', scale=1, scale_units='xy', angles='xy', label='Vector a')\n",
        "# Plot the original vector b (onto which vector a is projected)\n",
        "ax.quiver(*origin, *vector_b, color='b', scale=1, scale_units='xy', angles='xy', label='Vector b')\n",
        "\n",
        "# Plot the projected vector calculated using the analytical method\n",
        "ax.quiver(*origin, *projection_analytical, color='g', scale=1, scale_units='xy', angles='xy', label='Projection (Analytical)')\n",
        "# Plot the projected vector calculated using the gradient descent method\n",
        "ax.quiver(*origin, *projection_gradient_descent, color='m', scale=1, scale_units='xy', angles='xy', label='Projection (Gradient Descent)')\n",
        "\n",
        "# Draw the line representing the span of vector_b. This line shows all possible\n",
        "# scalar multiples of vector_b, and the projection of vector_a onto this line\n",
        "# is the point on the line closest to the end of vector_a.\n",
        "# We extend the line in both directions for better visualization. A scalar of 2\n",
        "# and -2 should be sufficient based on the vector magnitudes.\n",
        "line_vector_pos = 2 * vector_b\n",
        "line_vector_neg = -2 * vector_b\n",
        "ax.plot([line_vector_neg[0], line_vector_pos[0]], [line_vector_neg[1], line_vector_pos[1]], 'k--', label='Span of Vector b')\n",
        "\n",
        "\n",
        "# Set limits for the axes with padding to ensure all vectors and the line are visible\n",
        "# We find the maximum absolute coordinate value among all plotted points and add some padding.\n",
        "all_coords = np.concatenate([vector_a, vector_b, projection_analytical, projection_gradient_descent, line_vector_pos, line_vector_neg])\n",
        "max_limit = np.max(np.abs(all_coords)) + 1\n",
        "ax.set_xlim([-max_limit, max_limit])\n",
        "ax.set_ylim([-max_limit, max_limit])\n",
        "\n",
        "# Add labels, title, legend, grid, and set equal aspect ratio for a clear plot\n",
        "ax.set_xlabel('X-axis')\n",
        "ax.set_ylabel('Y-axis')\n",
        "ax.set_title('Vector Projection Demonstration')\n",
        "ax.legend()\n",
        "ax.grid(True)\n",
        "ax.set_aspect('equal', adjustable='box')\n",
        "\n",
        "# Display the plot\n",
        "plt.show()\n"
      ],
      "execution_count": 26,
      "outputs": [
        {
          "output_type": "display_data",
          "data": {
            "text/plain": [
              "<Figure size 800x800 with 1 Axes>"
            ],
            "image/png": "[encoded data removed]"
          },
          "metadata": {}
        }
      ]
    },
    {
      "cell_type": "markdown",
      "metadata": {
        "id": "adc7fa85"
      },
      "source": [
        "## Resumen:\n",
        "\n",
        "### Hallazgos Clave del Análisis de Datos\n",
        "\n",
        "* La proyección analítica de `vector_a` ([3, 2]) sobre `vector_b` ([5, 0]) se calculó como [3.0, 0.0].\n",
        "* El algoritmo de descenso de gradiente convergió con éxito a un escalar óptimo de aproximadamente 0.6, que al multiplicarse por `vector_b` ([5, 0]), da como resultado un vector proyectado de [3.0, 0.0].\n",
        "* Tanto el método analítico como el de descenso de gradiente produjeron el mismo vector proyectado.\n",
        "* La visualización confirma que los vectores proyectados de ambos métodos se encuentran exactamente en el intervalo de `vector_b`.\n",
        "\n",
        "### Perspectivas o Próximos Pasos\n",
        "\n",
        "* El método iterativo de descenso de gradiente aproxima con éxito la solución analítica para la proyección vectorial, lo que demuestra su utilidad para problemas de optimización.\n",
        "* Esta configuración puede extenderse a dimensiones superiores o escenarios de proyección más complejos donde las soluciones analíticas podrían ser más complejas.\n"
      ]
    },
    {
      "cell_type": "markdown",
      "metadata": {
        "id": "d534918c"
      },
      "source": [
        "# Task\n",
        "Eres un científico de datos. Estamos en un curso de aprendizaje automático y queremos explorar la solución del problema de proyección lineal de vectores utilizando la solución de mínimos cuadrados por gradiente descendente y la solución analítica. Construye un código en Python que muestre la proyección de un vector en 2 dimensiones sobre otro. Incluye la solución analítica y la solución iterativa. Construye los métodos principales de forma organizada y describe paso a paso la solución. Incluye comentarios. Agrega una celda que haga el proceso con dos imágenes que cargaré en Colab. Crea una parábola con los gradientes (cómo se muestra visualmente la iteración del gradiente)."
      ]
    },
    {
      "cell_type": "markdown",
      "metadata": {
        "id": "38fb5509"
      },
      "source": [
        "## Modificar la función de gradiente descendente\n",
        "\n",
        "### Subtask:\n",
        "Modificar la función `gradient_descent` para que almacene el historial del escalar y el valor de la función de costo en cada iteración.\n"
      ]
    },
    {
      "cell_type": "code",
      "metadata": {
        "id": "fd691521",
        "colab": {
          "base_uri": "https://localhost:8080/"
        },
        "outputId": "edc7a8c5-d563-4a8c-cc86-26c65f8090ce"
      },
      "source": [
        "def cost_function(scalar, a, b):\n",
        "  \"\"\"Calculates the squared error between vector a and the scaled vector b.\"\"\"\n",
        "  return np.sum((a - scalar * b)**2)\n",
        "\n",
        "def gradient_descent(a, b, learning_rate, num_iterations):\n",
        "  \"\"\"\n",
        "  Implements the gradient descent algorithm to find the optimal scalar\n",
        "  that minimizes the cost function and stores the history.\n",
        "\n",
        "  Args:\n",
        "    a: The vector to be projected.\n",
        "    b: The vector onto which 'a' is projected.\n",
        "    learning_rate: The step size for each iteration.\n",
        "    num_iterations: The number of iterations to perform.\n",
        "\n",
        "  Returns:\n",
        "    A tuple containing:\n",
        "    - The optimal scalar found by gradient descent.\n",
        "    - A list of scalar values at each iteration.\n",
        "    - A list of cost function values at each iteration.\n",
        "  \"\"\"\n",
        "  scalar = 0  # Initialize the scalar\n",
        "  scalar_history = [] # Initialize list to store scalar history\n",
        "  cost_history = [] # Initialize list to store cost history\n",
        "\n",
        "  for _ in range(num_iterations):\n",
        "    gradient = -2 * np.dot(a - scalar * b, b)  # Calculate the gradient\n",
        "    scalar = scalar - learning_rate * gradient  # Update the scalar\n",
        "\n",
        "    scalar_history.append(scalar) # Store the updated scalar\n",
        "    cost_history.append(cost_function(scalar, a, b)) # Store the cost for the updated scalar\n",
        "\n",
        "  return scalar, scalar_history, cost_history\n",
        "\n",
        "# Call the gradient_descent function and capture the history\n",
        "optimal_scalar, scalar_history, cost_history = gradient_descent(vector_a, vector_b, learning_rate=0.001, num_iterations=10000)\n",
        "\n",
        "# Calculate the projected vector using the optimized scalar\n",
        "projection_gradient_descent = optimal_scalar * vector_b\n",
        "\n",
        "# Print the results\n",
        "print(\"Optimized scalar (Gradient Descent):\", optimal_scalar)\n",
        "print(\"Projected vector (Gradient Descent):\", projection_gradient_descent)"
      ],
      "execution_count": 38,
      "outputs": [
        {
          "output_type": "stream",
          "name": "stdout",
          "text": [
            "Optimized scalar (Gradient Descent): 0.599999999999999\n",
            "Projected vector (Gradient Descent): [3. 0.]\n"
          ]
        }
      ]
    },
    {
      "cell_type": "markdown",
      "metadata": {
        "id": "84faa5cc"
      },
      "source": [
        "## Calcular la función de costo para un rango de escalares\n",
        "\n",
        "### Subtask:\n",
        "Calcular los valores de la función de costo para un rango de posibles valores del escalar para poder graficar la parábola completa.\n"
      ]
    },
    {
      "cell_type": "code",
      "metadata": {
        "id": "39e77a60",
        "colab": {
          "base_uri": "https://localhost:8080/"
        },
        "outputId": "8597daa1-c5c7-4f89-daa3-50a46032c7d9"
      },
      "source": [
        "# Create a range of scalar values around the optimal scalar\n",
        "scalar_range = np.linspace(optimal_scalar - 1, optimal_scalar + 1, 100)\n",
        "\n",
        "# Calculate the cost function for each scalar in the range\n",
        "cost_range = [cost_function(s, vector_a, vector_b) for s in scalar_range]\n",
        "\n",
        "# Convert cost_range to a NumPy array for easier handling\n",
        "cost_range = np.array(cost_range)\n",
        "\n",
        "# Print the first few scalar and cost values to verify\n",
        "print(\"Sample scalar values:\", scalar_range[:5])\n",
        "print(\"Sample cost values:\", cost_range[:5])"
      ],
      "execution_count": 6,
      "outputs": [
        {
          "output_type": "stream",
          "name": "stdout",
          "text": [
            "Sample scalar values: [-0.4        -0.37979798 -0.35959596 -0.33939394 -0.31919192]\n",
            "Sample cost values: [29.         28.00010203 27.02061014 26.06152433 25.12284461]\n"
          ]
        }
      ]
    },
    {
      "cell_type": "markdown",
      "metadata": {
        "id": "4f8abda5"
      },
      "source": [
        "## Visualizar la parábola y las iteraciones\n",
        "\n",
        "### Subtask:\n",
        "Graficar la función de costo (la parábola) y superponer los puntos que muestran el valor del escalar y el costo en cada iteración del gradiente descendente.\n"
      ]
    },
    {
      "cell_type": "code",
      "metadata": {
        "id": "dcbe08f5",
        "colab": {
          "base_uri": "https://localhost:8080/",
          "height": 564
        },
        "outputId": "974554e1-6175-4c73-b12a-314edd66703e"
      },
      "source": [
        "import matplotlib.pyplot as plt\n",
        "\n",
        "# Create a figure and axes for the plot\n",
        "fig, ax = plt.subplots(figsize=(10, 6))\n",
        "\n",
        "# Plot the cost function parabola\n",
        "ax.plot(scalar_range, cost_range, label='Cost Function Parabola', color='blue')\n",
        "\n",
        "# Scatter plot the scalar values and corresponding cost values from gradient descent history\n",
        "ax.scatter(scalar_history, cost_history, color='red', label='Gradient Descent Path', marker='o')\n",
        "\n",
        "# Add labels and title\n",
        "ax.set_xlabel('Scalar value')\n",
        "ax.set_ylabel('Cost Function Value')\n",
        "ax.set_title('Cost Function Parabola and Gradient Descent Path')\n",
        "\n",
        "# Add legend and grid\n",
        "ax.legend()\n",
        "ax.grid(True)\n",
        "\n",
        "# Display the plot\n",
        "plt.show()"
      ],
      "execution_count": 7,
      "outputs": [
        {
          "output_type": "display_data",
          "data": {
            "text/plain": [
              "<Figure size 1000x600 with 1 Axes>"
            ],
            "image/png": "[encoded data removed]"
          },
          "metadata": {}
        }
      ]
    },
    {
      "cell_type": "code",
      "metadata": {
        "id": "PFye5SlueUo6",
        "colab": {
          "base_uri": "https://localhost:8080/",
          "height": 564
        },
        "outputId": "348b2f0d-1620-4b59-c21a-4b46aca9797d"
      },
      "source": [
        "\n",
        "# Create a range of scalar values around the optimal scalar\n",
        "scalar_range = np.linspace(optimal_scalar - 1, optimal_scalar + 1, 100)\n",
        "\n",
        "# Calculate the cost function for each scalar in the range\n",
        "cost_range = [cost_function(s, vector_a, vector_b) for s in scalar_range]\n",
        "\n",
        "# Convert cost_range to a NumPy array for easier handling\n",
        "cost_range = np.array(cost_range)\n",
        "\n",
        "import matplotlib.pyplot as plt\n",
        "\n",
        "# Create a figure and axes for the plot\n",
        "fig, ax = plt.subplots(figsize=(10, 6))\n",
        "\n",
        "# Plot the cost function parabola\n",
        "ax.plot(scalar_range, cost_range, label='Cost Function Parabola', color='blue')\n",
        "\n",
        "# Scatter plot the scalar values and corresponding cost values from gradient descent history\n",
        "ax.scatter(scalar_history, cost_history, color='red', label='Gradient Descent Path', marker='o')\n",
        "\n",
        "# Add labels and title\n",
        "ax.set_xlabel('Scalar value')\n",
        "ax.set_ylabel('Cost Function Value')\n",
        "ax.set_title('Cost Function Parabola and Gradient Descent Path')\n",
        "\n",
        "# Add legend and grid\n",
        "ax.legend()\n",
        "ax.grid(True)\n",
        "\n",
        "# Display the plot\n",
        "plt.show()\n",
        "\n"
      ],
      "execution_count": 22,
      "outputs": [
        {
          "output_type": "display_data",
          "data": {
            "text/plain": [
              "<Figure size 1000x600 with 1 Axes>"
            ],
            "image/png": "[encoded data removed]"
          },
          "metadata": {}
        }
      ]
    },
    {
      "cell_type": "markdown",
      "metadata": {
        "id": "d4a270a9"
      },
      "source": [
        "## Resumen:\n",
        "\n",
        "### Hallazgos Clave del Análisis de Datos\n",
        "\n",
        "* La función `gradient_descent` se modificó correctamente para almacenar el historial de los valores escalares y los valores correspondientes de la función de costo en cada iteración.\n",
        "* Se generó un rango de valores escalares en torno al escalar óptimo calculado y se evaluó la función de costo para cada uno de estos valores, lo que proporcionó puntos de datos para representar gráficamente la parábola de la función de costo.\n",
        "* Se generó un gráfico que muestra la función de costo como una parábola y la trayectoria de las iteraciones del descenso de gradiente que convergen hacia el mínimo de la parábola. Esta visualización demuestra eficazmente cómo el algoritmo minimiza el costo.\n",
        "\n",
        "### Perspectivas o Próximos Pasos\n",
        "\n",
        "* La visualización muestra claramente la naturaleza iterativa del descenso de gradiente y su convergencia hacia el valor escalar óptimo que minimiza la función de costo. * El siguiente paso es agregar explícitamente celdas de rebajas al cuaderno para explicar la visualización generada, detallando cómo la parábola representa la función de costo y cómo los puntos dispersos ilustran el proceso de descenso del gradiente para encontrar el mínimo.\n"
      ]
    },
    {
      "cell_type": "markdown",
      "metadata": {
        "id": "6cbd684c"
      },
      "source": [
        "## Explicación paso a paso\n",
        "\n",
        "Este cuaderno muestra la proyección de un vector 2D sobre otro vector 2D mediante dos métodos: la solución analítica y una solución iterativa (descenso de gradiente).\n",
        "\n",
        "### 1. Definición de los vectores\n",
        "\n",
        "Primero, definimos los dos vectores 2D que utilizaremos para la proyección. `vector_a` es el vector que se proyectará y `vector_b` es el vector sobre el que se proyecta `vector_a`."
      ]
    },
    {
      "cell_type": "code",
      "metadata": {
        "colab": {
          "base_uri": "https://localhost:8080/"
        },
        "id": "7f7b98cf",
        "outputId": "1ad4e848-0a04-4e87-89da-900a46fd6340"
      },
      "source": [
        "def project_vector_analytical(a, b):\n",
        "  \"\"\"\n",
        "  Calculates the projection of vector a onto vector b using the analytical formula.\n",
        "\n",
        "  Args:\n",
        "    a: A 2D NumPy array representing the vector to be projected.\n",
        "    b: A 2D NumPy array representing the vector onto which 'a' is projected.\n",
        "\n",
        "  Returns:\n",
        "    A 2D NumPy array representing the projected vector.\n",
        "  \"\"\"\n",
        "  # Calculate the dot product of a and b\n",
        "  dot_product = np.dot(a, b)\n",
        "\n",
        "  # Calculate the squared magnitude of b (|b|^2)\n",
        "  b_squared_magnitude = np.dot(b, b)\n",
        "\n",
        "  # Calculate the scalar projection (the length of the projected vector along b)\n",
        "  scalar_projection = dot_product / b_squared_magnitude\n",
        "\n",
        "  # Calculate the projected vector by multiplying the scalar projection by the unit vector of b (b / |b|)\n",
        "  # Note: scalar_projection is (a.b) / |b|^2, so scalar_projection * b is ((a.b) / |b|^2) * b. This is the correct formula.\n",
        "  projected_vector = scalar_projection * b\n",
        "\n",
        "  return projected_vector\n",
        "\n",
        "# Call the function with vector_a and vector_b to get the analytical projection\n",
        "projection_analytical = project_vector_analytical(vector_a, vector_b)\n",
        "\n",
        "# Print the resulting analytical projection vector\n",
        "print(\"Analytical projection:\", projection_analytical)"
      ],
      "execution_count": 14,
      "outputs": [
        {
          "output_type": "stream",
          "name": "stdout",
          "text": [
            "Analytical projection: [3. 0.]\n"
          ]
        }
      ]
    },
    {
      "cell_type": "markdown",
      "metadata": {
        "id": "fa1499c9"
      },
      "source": [
        "### Criterio de parada del Gradiente Descendente\n",
        "\n",
        "En la implementación actual de la función `gradient_descent`, el algoritmo se detiene después de un número predefinido de iteraciones, especificado por el parámetro `num_iterations`.\n",
        "\n",
        "Este es un criterio de parada común, pero en la práctica se pueden utilizar otros criterios, como:\n",
        "\n",
        "*   **Convergencia basada en el gradiente:** Detenerse cuando la magnitud del gradiente sea muy cercana a cero, lo que indica que hemos alcanzado un mínimo local.\n",
        "*   **Convergencia basada en el cambio en el escalar:** Detenerse cuando el cambio en el valor del escalar entre iteraciones sea muy pequeño.\n",
        "*   **Convergencia basada en el cambio en el costo:** Detenerse cuando el cambio en el valor de la función de costo entre iteraciones sea muy pequeño.\n",
        "\n",
        "Para esta demostración, un número fijo de iteraciones es suficiente para mostrar cómo el algoritmo se acerca al mínimo de la función de costo."
      ]
    },
    {
      "cell_type": "markdown",
      "metadata": {
        "id": "adad28d2"
      },
      "source": [
        "### 1. Load and preprocess images\n",
        "\n",
        "We will load the two images, convert them to grayscale, and flatten them into vectors. This will allow us to treat them as high-dimensional vectors for the projection calculation."
      ]
    },
    {
      "cell_type": "code",
      "metadata": {
        "colab": {
          "base_uri": "https://localhost:8080/"
        },
        "id": "106b7f03",
        "outputId": "73c958b0-a8a1-4638-c6a5-2196dfb2a1e3"
      },
      "source": [
        "from PIL import Image\n",
        "import numpy as np\n",
        "import os\n",
        "\n",
        "# Define the image filenames\n",
        "image_file1 = 'foto1.jpg' # Assuming the user will upload foto1\n",
        "image_file2 = 'foto3.jpg' # Assuming the user will upload foto2\n",
        "\n",
        "# Check if the files exist\n",
        "if not os.path.exists(image_file1) or not os.path.exists(image_file2):\n",
        "    print(f\"Please upload '{image_file1}' and '{image_file2}' to your Colab environment.\")\n",
        "else:\n",
        "    # Load the images and convert to grayscale\n",
        "    img1 = Image.open(image_file1).convert('L')\n",
        "    img2 = Image.open(image_file2).convert('L')\n",
        "\n",
        "    # Resize img2 to match the dimensions of img1\n",
        "    img2_resized = img2.resize(img1.size)\n",
        "\n",
        "    # Convert images to numpy arrays and flatten them, and convert to float64\n",
        "    vector_img1 = np.array(img1).flatten().astype(np.float64)\n",
        "    vector_img2 = np.array(img2_resized).flatten().astype(np.float64) # Use the resized image and convert to float64\n",
        "\n",
        "    print(f\"Image 1 shape (flattened): {vector_img1.shape}\")\n",
        "    print(f\"Image 2 shape (flattened): {vector_img2.shape}\")\n",
        "    print(f\"Data type of image vectors: {vector_img1.dtype}\")"
      ],
      "execution_count": 35,
      "outputs": [
        {
          "output_type": "stream",
          "name": "stdout",
          "text": [
            "Image 1 shape (flattened): (10256030,)\n",
            "Image 2 shape (flattened): (10256030,)\n",
            "Data type of image vectors: float64\n"
          ]
        }
      ]
    },
    {
      "cell_type": "markdown",
      "metadata": {
        "id": "786927c2"
      },
      "source": [
        "### 2. Analytical Solution for Image Projection\n",
        "\n",
        "We'll adapt the analytical formula for vector projection to work with our image vectors. We will project `vector_img1` onto `vector_img2`."
      ]
    },
    {
      "cell_type": "code",
      "metadata": {
        "colab": {
          "base_uri": "https://localhost:8080/"
        },
        "id": "42203cd4",
        "outputId": "1033388d-0ab6-497e-ad00-bde1a0c622ec"
      },
      "source": [
        "# We can reuse the analytical projection function as it works for any dimension\n",
        "projection_analytical_img = project_vector_analytical(vector_img1, vector_img2)\n",
        "\n",
        "print(\"Analytical projection of Image 1 onto Image 2 (flattened):\", projection_analytical_img)\n",
        "print(\"Shape of analytical projection:\", projection_analytical_img.shape)"
      ],
      "execution_count": 36,
      "outputs": [
        {
          "output_type": "stream",
          "name": "stdout",
          "text": [
            "Analytical projection of Image 1 onto Image 2 (flattened): [82.61714205 82.61714205 82.61714205 ... 15.78080241 15.78080241\n",
            " 15.78080241]\n",
            "Shape of analytical projection: (10256030,)\n"
          ]
        }
      ]
    },
    {
      "cell_type": "markdown",
      "metadata": {
        "id": "2a91be6f"
      },
      "source": [
        "### 3. Iterative Solution (Gradient Descent) for Image Projection\n",
        "\n",
        "We'll also adapt the gradient descent approach to find the scalar that minimizes the squared error between `vector_img1` and a scaled version of `vector_img2`."
      ]
    },
    {
      "cell_type": "code",
      "metadata": {
        "colab": {
          "base_uri": "https://localhost:8080/"
        },
        "id": "a8929ab1",
        "outputId": "dbf11e5e-9f68-486b-a0bf-597a2c69b7fe"
      },
      "source": [
        "# We can reuse the cost function and gradient descent functions\n",
        "# We might need to adjust learning rate and number of iterations depending on the image size\n",
        "\n",
        "# Set the learning rate and number of iterations for gradient descent\n",
        "# These values might need tuning based on the image data\n",
        "learning_rate_img = 1e-10  # Start with a small learning rate\n",
        "num_iterations_img = 1000 # Adjust as needed\n",
        "\n",
        "# Call the gradient_descent function with the image vectors\n",
        "optimal_scalar_img, scalar_history_img, cost_history_img = gradient_descent(vector_img1, vector_img2, learning_rate=learning_rate_img, num_iterations=num_iterations_img)\n",
        "\n",
        "# Calculate the projected vector using the optimized scalar\n",
        "projection_gradient_descent_img = optimal_scalar_img * vector_img2\n",
        "\n",
        "# Print the results\n",
        "print(\"Optimized scalar (Gradient Descent) for images:\", optimal_scalar_img)\n",
        "print(\"Projected vector (Gradient Descent) for images (flattened):\", projection_gradient_descent_img)\n",
        "print(\"Shape of gradient descent projection:\", projection_gradient_descent_img.shape)"
      ],
      "execution_count": 39,
      "outputs": [
        {
          "output_type": "stream",
          "name": "stderr",
          "text": [
            "/usr/local/lib/python3.12/dist-packages/numpy/_core/fromnumeric.py:86: RuntimeWarning: overflow encountered in reduce\n",
            "  return ufunc.reduce(obj, axis, dtype, out, **passkwargs)\n",
            "/tmp/ipython-input-3857450591.py:3: RuntimeWarning: overflow encountered in square\n",
            "  return np.sum((a - scalar * b)**2)\n",
            "/tmp/ipython-input-3857450591.py:3: RuntimeWarning: invalid value encountered in multiply\n",
            "  return np.sum((a - scalar * b)**2)\n",
            "/tmp/ipython-input-3857450591.py:27: RuntimeWarning: invalid value encountered in multiply\n",
            "  gradient = -2 * np.dot(a - scalar * b, b)  # Calculate the gradient\n"
          ]
        },
        {
          "output_type": "stream",
          "name": "stdout",
          "text": [
            "Optimized scalar (Gradient Descent) for images: nan\n",
            "Projected vector (Gradient Descent) for images (flattened): [nan nan nan ... nan nan nan]\n",
            "Shape of gradient descent projection: (10256030,)\n"
          ]
        }
      ]
    },
    {
      "cell_type": "markdown",
      "metadata": {
        "id": "27c35dc3"
      },
      "source": [
        "# Task\n",
        "Provide feedback on the entire document, including explanations and code, and suggest improvements to the code."
      ]
    },
    {
      "cell_type": "markdown",
      "metadata": {
        "id": "1801f651"
      },
      "source": [
        "## Review explanations and structure\n",
        "\n",
        "### Subtask:\n",
        "Review explanations and structure\n"
      ]
    },
    {
      "cell_type": "markdown",
      "metadata": {
        "id": "fa6a6b79"
      },
      "source": [
        "## Review code for clarity and comments\n",
        "\n",
        "### Subtask:\n",
        "Examine each code cell to ensure the code is easy to understand, well-commented, and follows good practices.\n"
      ]
    },
    {
      "cell_type": "markdown",
      "metadata": {
        "id": "07a56c20"
      },
      "source": [
        "**Reasoning**:\n",
        "I will go through each code cell, check for clarity, comments, and good practices, and make necessary improvements. I will start with the first code cell that defines the vectors.\n",
        "\n"
      ]
    },
    {
      "cell_type": "code",
      "metadata": {
        "colab": {
          "base_uri": "https://localhost:8080/"
        },
        "id": "649ac9e7",
        "outputId": "b161c2a7-7d7c-4ddf-dde3-61fc948ce578"
      },
      "source": [
        "import numpy as np\n",
        "\n",
        "# Define the two 2-dimensional vectors\n",
        "# vector_a: This vector is the one we want to project onto vector_b.\n",
        "vector_a = np.array([3, 2])\n",
        "# vector_b: This vector is the one onto which vector_a is projected.\n",
        "vector_b = np.array([5, 0])\n",
        "\n",
        "print(\"Vector a:\", vector_a)\n",
        "print(\"Vector b:\", vector_b)"
      ],
      "execution_count": 40,
      "outputs": [
        {
          "output_type": "stream",
          "name": "stdout",
          "text": [
            "Vector a: [3 2]\n",
            "Vector b: [5 0]\n"
          ]
        }
      ]
    },
    {
      "cell_type": "markdown",
      "metadata": {
        "id": "ff9399e8"
      },
      "source": [
        "**Reasoning**:\n",
        "I have reviewed the first code cell. Now I will review the next code cell which implements the analytical solution.\n",
        "\n"
      ]
    },
    {
      "cell_type": "code",
      "metadata": {
        "colab": {
          "base_uri": "https://localhost:8080/"
        },
        "id": "762ea53c",
        "outputId": "e1711403-267a-4f97-a77b-d7aaf75e23ce"
      },
      "source": [
        "def project_vector_analytical(a, b):\n",
        "  \"\"\"\n",
        "  Calculates the projection of vector a onto vector b using the analytical formula.\n",
        "\n",
        "  Args:\n",
        "    a: A 2D NumPy array representing the vector to be projected.\n",
        "    b: A 2D NumPy array representing the vector onto which 'a' is projected.\n",
        "\n",
        "  Returns:\n",
        "    A 2D NumPy array representing the projected vector.\n",
        "  \"\"\"\n",
        "  # Calculate the dot product of vector a and vector b (a . b)\n",
        "  dot_product = np.dot(a, b)\n",
        "\n",
        "  # Calculate the squared magnitude of vector b (|b|^2).\n",
        "  # This is equivalent to np.dot(b, b).\n",
        "  b_squared_magnitude = np.dot(b, b)\n",
        "\n",
        "  # Calculate the scalar projection. This is the length of the projected vector\n",
        "  # along the direction of vector b. The formula is (a . b) / |b|^2.\n",
        "  scalar_projection = dot_product / b_squared_magnitude\n",
        "\n",
        "  # Calculate the projected vector. This is the scalar projection multiplied by\n",
        "  # vector b. The formula for the projected vector is ((a . b) / |b|^2) * b.\n",
        "  projected_vector = scalar_projection * b\n",
        "\n",
        "  return projected_vector\n",
        "\n",
        "# Call the function with vector_a and vector_b to get the analytical projection\n",
        "projection_analytical = project_vector_analytical(vector_a, vector_b)\n",
        "\n",
        "# Print the resulting analytical projection vector\n",
        "print(\"Analytical projection:\", projection_analytical)"
      ],
      "execution_count": 41,
      "outputs": [
        {
          "output_type": "stream",
          "name": "stdout",
          "text": [
            "Analytical projection: [3. 0.]\n"
          ]
        }
      ]
    },
    {
      "cell_type": "markdown",
      "metadata": {
        "id": "5d487f4a"
      },
      "source": [
        "**Reasoning**:\n",
        "I have reviewed the code for the analytical solution. Now I will review the code for the iterative solution using gradient descent, including the cost function and the gradient descent function.\n",
        "\n"
      ]
    },
    {
      "cell_type": "code",
      "metadata": {
        "colab": {
          "base_uri": "https://localhost:8080/"
        },
        "id": "ca690950",
        "outputId": "79546215-52e7-4c93-d4f4-7b7465acb001"
      },
      "source": [
        "# Implement the cost function (squared error)\n",
        "def cost_function(scalar, a, b):\n",
        "  \"\"\"\n",
        "  Calculates the squared error between vector a and the scaled vector b.\n",
        "  This function measures how \"close\" the scaled vector b (scalar * b) is to\n",
        "  vector a. The goal of gradient descent is to find the scalar value that\n",
        "  minimizes this cost.\n",
        "  \"\"\"\n",
        "  return np.sum((a - scalar * b)**2)\n",
        "\n",
        "# Implement the gradient descent algorithm\n",
        "def gradient_descent(a, b, learning_rate, num_iterations):\n",
        "  \"\"\"\n",
        "  Implements the gradient descent algorithm to find the optimal scalar\n",
        "  that minimizes the cost function.\n",
        "\n",
        "  Args:\n",
        "    a: The vector to be projected.\n",
        "    b: The vector onto which 'a' is projected.\n",
        "    learning_rate: The step size for each iteration. A smaller learning rate\n",
        "                   leads to slower but potentially more stable convergence.\n",
        "    num_iterations: The number of iterations to perform. More iterations\n",
        "                    generally lead to better convergence, but can be\n",
        "                    computationally expensive.\n",
        "\n",
        "  Returns:\n",
        "    A tuple containing:\n",
        "    - The optimal scalar found by gradient descent after the specified number of iterations.\n",
        "    - A list of scalar values at each iteration, showing the path of convergence.\n",
        "    - A list of cost function values at each iteration, showing how the cost decreased.\n",
        "  \"\"\"\n",
        "  scalar = 0  # Initialize the scalar to 0. This is our starting guess.\n",
        "  scalar_history = [] # Initialize list to store scalar history\n",
        "  cost_history = [] # Initialize list to store cost history\n",
        "\n",
        "  # Loop for the specified number of iterations\n",
        "  for _ in range(num_iterations):\n",
        "    # Calculate the gradient of the cost function with respect to the scalar.\n",
        "    # The gradient tells us the direction of the steepest increase in the cost function.\n",
        "    # The derivative of the cost function (a - scalar * b)^2 with respect to scalar is -2 * (a - scalar * b) * b.\n",
        "    gradient = -2 * np.dot(a - scalar * b, b)\n",
        "\n",
        "    # Update the scalar by moving in the opposite direction of the gradient.\n",
        "    # We multiply the gradient by the learning rate to control the step size.\n",
        "    scalar = scalar - learning_rate * gradient\n",
        "\n",
        "    # Store the updated scalar and the corresponding cost for this iteration\n",
        "    scalar_history.append(scalar)\n",
        "    cost_history.append(cost_function(scalar, a, b))\n",
        "\n",
        "  return scalar, scalar_history, cost_history\n",
        "\n",
        "# Set the learning rate and number of iterations for gradient descent\n",
        "learning_rate = 0.001\n",
        "num_iterations = 10000\n",
        "\n",
        "# Call the gradient_descent function and capture the history\n",
        "optimal_scalar, scalar_history, cost_history = gradient_descent(vector_a, vector_b, learning_rate=learning_rate, num_iterations=num_iterations)\n",
        "\n",
        "# Calculate the projected vector using the optimized scalar from gradient descent\n",
        "projection_gradient_descent = optimal_scalar * vector_b\n",
        "\n",
        "# Print the results from the gradient descent method\n",
        "print(\"Optimized scalar (Gradient Descent):\", optimal_scalar)\n",
        "print(\"Projected vector (Gradient Descent):\", projection_gradient_descent)"
      ],
      "execution_count": 42,
      "outputs": [
        {
          "output_type": "stream",
          "name": "stdout",
          "text": [
            "Optimized scalar (Gradient Descent): 0.599999999999999\n",
            "Projected vector (Gradient Descent): [3. 0.]\n"
          ]
        }
      ]
    },
    {
      "cell_type": "markdown",
      "metadata": {
        "id": "4a35f9e6"
      },
      "source": [
        "**Reasoning**:\n",
        "I have reviewed the gradient descent code. Now I will review the code cell that calculates the cost function for a range of scalars to plot the parabola.\n",
        "\n"
      ]
    },
    {
      "cell_type": "code",
      "metadata": {
        "colab": {
          "base_uri": "https://localhost:8080/"
        },
        "id": "a38343ef",
        "outputId": "be0350ba-20b2-4f3b-e2b1-048dfdf61a7f"
      },
      "source": [
        "# Create a range of scalar values around the optimal scalar.\n",
        "# This range is used to plot the cost function parabola to visualize\n",
        "# the optimization process. We create 100 points between optimal_scalar - 1\n",
        "# and optimal_scalar + 1 for a smooth curve.\n",
        "scalar_range = np.linspace(optimal_scalar - 1, optimal_scalar + 1, 100)\n",
        "\n",
        "# Calculate the cost function for each scalar value in the defined range.\n",
        "# This generates the y-values for the cost function parabola.\n",
        "cost_range = [cost_function(s, vector_a, vector_b) for s in scalar_range]\n",
        "\n",
        "# Convert cost_range to a NumPy array for easier handling and plotting.\n",
        "cost_range = np.array(cost_range)\n",
        "\n",
        "# Print the first few scalar and cost values to verify the data generation.\n",
        "print(\"Sample scalar values:\", scalar_range[:5])\n",
        "print(\"Sample cost values:\", cost_range[:5])"
      ],
      "execution_count": 43,
      "outputs": [
        {
          "output_type": "stream",
          "name": "stdout",
          "text": [
            "Sample scalar values: [-0.4        -0.37979798 -0.35959596 -0.33939394 -0.31919192]\n",
            "Sample cost values: [29.         28.00010203 27.02061014 26.06152433 25.12284461]\n"
          ]
        }
      ]
    },
    {
      "cell_type": "markdown",
      "metadata": {
        "id": "0c4b0881"
      },
      "source": [
        "**Reasoning**:\n",
        "I have reviewed the code for generating the cost function parabola data. Now I will review the code for visualizing the parabola and the gradient descent path.\n",
        "\n"
      ]
    },
    {
      "cell_type": "code",
      "metadata": {
        "colab": {
          "base_uri": "https://localhost:8080/",
          "height": 564
        },
        "id": "08eda303",
        "outputId": "ecdadb1b-c3fa-4cb8-ff21-cd7319ba12de"
      },
      "source": [
        "import matplotlib.pyplot as plt\n",
        "\n",
        "# Create a figure and axes for the plot. The figure size is set for better readability.\n",
        "fig, ax = plt.subplots(figsize=(10, 6))\n",
        "\n",
        "# Plot the cost function parabola. This shows how the cost changes with different\n",
        "# scalar values. The minimum of this parabola is the optimal scalar.\n",
        "ax.plot(scalar_range, cost_range, label='Cost Function Parabola', color='blue')\n",
        "\n",
        "# Scatter plot the scalar values and corresponding cost values from the gradient\n",
        "# descent history. This visualizes the steps taken by the gradient descent\n",
        "# algorithm as it moves towards the minimum of the cost function.\n",
        "ax.scatter(scalar_history, cost_history, color='red', label='Gradient Descent Path', marker='o')\n",
        "\n",
        "# Add labels to the axes for clarity.\n",
        "ax.set_xlabel('Scalar value')\n",
        "ax.set_ylabel('Cost Function Value')\n",
        "# Add a title to the plot.\n",
        "ax.set_title('Cost Function Parabola and Gradient Descent Path')\n",
        "\n",
        "# Add a legend to identify the different elements in the plot.\n",
        "ax.legend()\n",
        "# Add a grid for easier reading of the plot.\n",
        "ax.grid(True)\n",
        "\n",
        "# Display the plot.\n",
        "plt.show()"
      ],
      "execution_count": 44,
      "outputs": [
        {
          "output_type": "display_data",
          "data": {
            "text/plain": [
              "<Figure size 1000x600 with 1 Axes>"
            ],
            "image/png": "[encoded data removed]"
          },
          "metadata": {}
        }
      ]
    },
    {
      "cell_type": "markdown",
      "metadata": {
        "id": "151c8dcb"
      },
      "source": [
        "**Reasoning**:\n",
        "I have reviewed the visualization code for the 2D vector projection. Now I will review the code cell that loads and preprocesses the image data for image projection.\n",
        "\n"
      ]
    },
    {
      "cell_type": "code",
      "metadata": {
        "colab": {
          "base_uri": "https://localhost:8080/"
        },
        "id": "89d110ec",
        "outputId": "e16fc9af-5b84-4422-9536-b1c98fbb3f2d"
      },
      "source": [
        "from PIL import Image\n",
        "import numpy as np\n",
        "import os\n",
        "\n",
        "# Define the image filenames. These files are expected to be uploaded by the user.\n",
        "image_file1 = 'foto1.jpg'\n",
        "image_file2 = 'foto3.jpg'\n",
        "\n",
        "# Check if both image files exist in the current directory.\n",
        "if not os.path.exists(image_file1) or not os.path.exists(image_file2):\n",
        "    # If files are missing, print a message instructing the user to upload them.\n",
        "    print(f\"Please upload '{image_file1}' and '{image_file2}' to your Colab environment.\")\n",
        "else:\n",
        "    # If files exist, load them using Pillow's Image.open.\n",
        "    # Convert images to grayscale ('L' mode) as projection is typically done on single channel data.\n",
        "    img1 = Image.open(image_file1).convert('L')\n",
        "    img2 = Image.open(image_file2).convert('L')\n",
        "\n",
        "    # Resize img2 to match the dimensions of img1. This is crucial for vector operations\n",
        "    # where both vectors must have the same size.\n",
        "    img2_resized = img2.resize(img1.size)\n",
        "\n",
        "    # Convert the grayscale images to NumPy arrays and flatten them into 1D vectors.\n",
        "    # Convert the data type to float64 to avoid potential overflow issues during calculations,\n",
        "    # especially with dot products and squared magnitudes.\n",
        "    vector_img1 = np.array(img1).flatten().astype(np.float64)\n",
        "    vector_img2 = np.array(img2_resized).flatten().astype(np.float64)\n",
        "\n",
        "    # Print the shapes and data types of the resulting vectors to confirm the preprocessing steps.\n",
        "    print(f\"Image 1 shape (flattened): {vector_img1.shape}\")\n",
        "    print(f\"Image 2 shape (flattened): {vector_img2.shape}\")\n",
        "    print(f\"Data type of image vectors: {vector_img1.dtype}\")"
      ],
      "execution_count": 45,
      "outputs": [
        {
          "output_type": "stream",
          "name": "stdout",
          "text": [
            "Image 1 shape (flattened): (10256030,)\n",
            "Image 2 shape (flattened): (10256030,)\n",
            "Data type of image vectors: float64\n"
          ]
        }
      ]
    },
    {
      "cell_type": "code",
      "metadata": {
        "colab": {
          "base_uri": "https://localhost:8080/"
        },
        "id": "752e7aa8",
        "outputId": "df2f46e7-3ba1-4641-8a32-28852dbcfcc8"
      },
      "source": [
        "# We can reuse the analytical projection function 'project_vector_analytical'\n",
        "# as it is designed to work with NumPy arrays of any dimension, including\n",
        "# the flattened image vectors.\n",
        "projection_analytical_img = project_vector_analytical(vector_img1, vector_img2)\n",
        "\n",
        "# Print information about the resulting analytical projection vector for images.\n",
        "print(\"Analytical projection of Image 1 onto Image 2 (flattened):\", projection_analytical_img)\n",
        "print(\"Shape of analytical projection:\", projection_analytical_img.shape)"
      ],
      "execution_count": 46,
      "outputs": [
        {
          "output_type": "stream",
          "name": "stdout",
          "text": [
            "Analytical projection of Image 1 onto Image 2 (flattened): [82.61714205 82.61714205 82.61714205 ... 15.78080241 15.78080241\n",
            " 15.78080241]\n",
            "Shape of analytical projection: (10256030,)\n"
          ]
        }
      ]
    },
    {
      "cell_type": "code",
      "metadata": {
        "colab": {
          "base_uri": "https://localhost:8080/"
        },
        "id": "a74ef73b",
        "outputId": "ae2783c0-faf4-4c0c-eca0-cfe6e41f2717"
      },
      "source": [
        "# We can reuse the cost function and gradient descent functions defined earlier\n",
        "# for 2D vectors, as they are also applicable to higher-dimensional vectors\n",
        "# like our flattened image vectors.\n",
        "\n",
        "# Set the learning rate and number of iterations for gradient descent for images.\n",
        "# These values might need careful tuning based on the image data and its scale.\n",
        "# A very small learning rate is often necessary for large, high-dimensional data.\n",
        "learning_rate_img = 1e-10  # Adjusted learning rate for image data\n",
        "num_iterations_img = 1000 # Number of iterations\n",
        "\n",
        "# Call the gradient_descent function with the image vectors and specified parameters.\n",
        "# This will perform the iterative optimization to find the optimal scalar for image projection.\n",
        "optimal_scalar_img, scalar_history_img, cost_history_img = gradient_descent(vector_img1, vector_img2, learning_rate=learning_rate_img, num_iterations=num_iterations_img)\n",
        "\n",
        "# Calculate the projected vector using the optimized scalar found by gradient descent.\n",
        "projection_gradient_descent_img = optimal_scalar_img * vector_img2\n",
        "\n",
        "# Print the results from the gradient descent method for images.\n",
        "print(\"Optimized scalar (Gradient Descent) for images:\", optimal_scalar_img)\n",
        "print(\"Projected vector (Gradient Descent) for images (flattened):\", projection_gradient_descent_img)\n",
        "print(\"Shape of gradient descent projection:\", projection_gradient_descent_img.shape)\n",
        "\n",
        "# Note: The gradient descent for images might encounter numerical stability issues\n",
        "# or require significant tuning of learning rate and iterations due to the large\n",
        "# dimensionality and scale of image data. The 'nan' output in the previous execution\n",
        "# indicates potential issues like overflow, which might require further\n",
        "# debugging or scaling of image data before applying gradient descent."
      ],
      "execution_count": 47,
      "outputs": [
        {
          "output_type": "stream",
          "name": "stderr",
          "text": [
            "/usr/local/lib/python3.12/dist-packages/numpy/_core/fromnumeric.py:86: RuntimeWarning: overflow encountered in reduce\n",
            "  return ufunc.reduce(obj, axis, dtype, out, **passkwargs)\n",
            "/tmp/ipython-input-2296604085.py:9: RuntimeWarning: overflow encountered in square\n",
            "  return np.sum((a - scalar * b)**2)\n",
            "/tmp/ipython-input-2296604085.py:9: RuntimeWarning: invalid value encountered in multiply\n",
            "  return np.sum((a - scalar * b)**2)\n",
            "/tmp/ipython-input-2296604085.py:41: RuntimeWarning: invalid value encountered in multiply\n",
            "  gradient = -2 * np.dot(a - scalar * b, b)\n"
          ]
        },
        {
          "output_type": "stream",
          "name": "stdout",
          "text": [
            "Optimized scalar (Gradient Descent) for images: nan\n",
            "Projected vector (Gradient Descent) for images (flattened): [nan nan nan ... nan nan nan]\n",
            "Shape of gradient descent projection: (10256030,)\n"
          ]
        }
      ]
    },
    {
      "cell_type": "markdown",
      "metadata": {
        "id": "8b0a108e"
      },
      "source": [
        "## Identify potential code improvements\n",
        "\n",
        "### Subtask:\n",
        "Identify potential areas for improvement in the existing code based on the review for clarity and good practices.\n"
      ]
    },
    {
      "cell_type": "markdown",
      "metadata": {
        "id": "b6eed43c"
      },
      "source": [
        "## Provide consolidated feedback\n",
        "\n",
        "### Subtask:\n",
        "Summarize the findings from the review, highlighting strengths and suggesting specific areas for improvement in both the markdown and code cells.\n"
      ]
    }
  ]
}